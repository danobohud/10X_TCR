{
 "cells": [
  {
   "cell_type": "code",
   "execution_count": 1,
   "metadata": {},
   "outputs": [],
   "source": [
    "import numpy as np\n",
    "import pandas as pd\n",
    "import scanpy as sc\n",
    "import scirpy as ir\n",
    "from matplotlib import pyplot as plt, cm as mpl_cm\n",
    "from cycler import cycler\n",
    "\n",
    "sc.set_figure_params(figsize=(4, 4))\n",
    "sc.settings.verbosity = 2  # verbosity: errors (0), warnings (1), info (2), hints (3)"
   ]
  },
  {
   "cell_type": "code",
   "execution_count": 36,
   "metadata": {},
   "outputs": [],
   "source": [
    "from tcr_processing import *"
   ]
  },
  {
   "cell_type": "code",
   "execution_count": 40,
   "metadata": {},
   "outputs": [
    {
     "name": "stdout",
     "output_type": "stream",
     "text": [
      "WARNING: Non-standard locus name ignored: Multi \n",
      "WARNING: Non-standard locus name ignored: None \n",
      "reading data/vdj_v1_hs_aggregated_donor2_filtered_feature_bc_matrix.h5\n"
     ]
    },
    {
     "name": "stderr",
     "output_type": "stream",
     "text": [
      "Variable names are not unique. To make them unique, call `.var_names_make_unique`.\n"
     ]
    },
    {
     "name": "stdout",
     "output_type": "stream",
     "text": [
      " (0:00:05)\n"
     ]
    },
    {
     "name": "stderr",
     "output_type": "stream",
     "text": [
      "Variable names are not unique. To make them unique, call `.var_names_make_unique`.\n",
      "/Users/danhudson/opt/miniconda3/envs/10X/lib/python3.9/site-packages/anndata/_core/anndata.py:1228: FutureWarning: The `inplace` parameter in pandas.Categorical.reorder_categories is deprecated and will be removed in a future version. Reordering categories will always return a new Categorical object.\n",
      "  c.reorder_categories(natsorted(c.categories), inplace=True)\n",
      "... storing 'feature_types' as categorical\n",
      "/Users/danhudson/opt/miniconda3/envs/10X/lib/python3.9/site-packages/anndata/_core/anndata.py:1228: FutureWarning: The `inplace` parameter in pandas.Categorical.reorder_categories is deprecated and will be removed in a future version. Reordering categories will always return a new Categorical object.\n",
      "  c.reorder_categories(natsorted(c.categories), inplace=True)\n",
      "... storing 'genome' as categorical\n"
     ]
    },
    {
     "name": "stdout",
     "output_type": "stream",
     "text": [
      "Data loaded to Ann Object with shape:  (91921, 33538)\n",
      "filtered out 15493 genes that are detected in less than 10 cells\n"
     ]
    },
    {
     "name": "stderr",
     "output_type": "stream",
     "text": [
      "Variable names are not unique. To make them unique, call `.var_names_make_unique`.\n",
      "Variable names are not unique. To make them unique, call `.var_names_make_unique`.\n"
     ]
    },
    {
     "name": "stdout",
     "output_type": "stream",
     "text": [
      "filtered out 11 cells that have less than 100 genes expressed\n"
     ]
    },
    {
     "name": "stderr",
     "output_type": "stream",
     "text": [
      "Variable names are not unique. To make them unique, call `.var_names_make_unique`.\n",
      "Variable names are not unique. To make them unique, call `.var_names_make_unique`.\n"
     ]
    },
    {
     "name": "stdout",
     "output_type": "stream",
     "text": [
      "normalizing by total count per cell\n"
     ]
    },
    {
     "name": "stderr",
     "output_type": "stream",
     "text": [
      "Variable names are not unique. To make them unique, call `.var_names_make_unique`.\n",
      "Variable names are not unique. To make them unique, call `.var_names_make_unique`.\n"
     ]
    },
    {
     "name": "stdout",
     "output_type": "stream",
     "text": [
      "    finished (0:00:01): normalized adata.X and added    'n_counts', counts per cell before normalization (adata.obs)\n",
      "Fraction of cells with more than one pair of TCRs: 0.07\n",
      "Dropping multichain and single chain receptors\n"
     ]
    },
    {
     "name": "stderr",
     "output_type": "stream",
     "text": [
      "Variable names are not unique. To make them unique, call `.var_names_make_unique`.\n",
      "Variable names are not unique. To make them unique, call `.var_names_make_unique`.\n"
     ]
    },
    {
     "name": "stdout",
     "output_type": "stream",
     "text": [
      "Dropping dead and doublet cells\n"
     ]
    }
   ],
   "source": [
    "def drop_dead(adata, count_threshold=False,mt_threshold=False):\n",
    "    if not count_threshold:\n",
    "        threshold=2500\n",
    "    if not mt_threshold:\n",
    "        mt_threshold=5\n",
    "    adata.var['mt'] = adata.var_names.str.startswith('MT-')  # Generates a boolean mask for genes starting with 'MT'\n",
    "    sc.pp.calculate_qc_metrics(adata, qc_vars=['mt'], percent_top=None, log1p=False, inplace=True)  # Returns total_counts_['mt'] for vars fed in via qc_vars\n",
    "    adata = adata[adata.obs.n_genes_by_counts < threshold, :]\n",
    "    adata = adata[adata.obs.pct_counts_mt < mt_threshold, :]\n",
    "    return adata\n",
    "\n",
    "def preprocess(adata,min_cells=False,min_genes=False,drop_mt=False):\n",
    "\n",
    "    if not min_cells:\n",
    "        min_cells=10\n",
    "    if not min_genes:\n",
    "        min_genes=100\n",
    "\n",
    "\n",
    "    sc.pp.filter_genes(adata, min_cells=min_cells)\n",
    "    sc.pp.filter_cells(adata, min_genes=min_genes)\n",
    "\n",
    "    if drop_mt:\n",
    "        print('Dropping dead and doublet cells')\n",
    "        adata=drop_dead(adata)\n",
    "\n",
    "    sc.pp.normalize_per_cell(adata, counts_per_cell_after=1000)\n",
    "    sc.pp.log1p(adata)\n",
    "    \n",
    "    ir.tl.chain_qc(adata)\n",
    "    print(\n",
    "        \"Fraction of cells with more than one pair of TCRs: {:.2f}\".format(\n",
    "            np.sum(\n",
    "                adata.obs[\"chain_pairing\"].isin(\n",
    "                    [\"extra VJ\", \"extra VDJ\", \"two full chains\"]\n",
    "                )\n",
    "            )\n",
    "            / adata.n_obs\n",
    "        )\n",
    "    )\n",
    "    \n",
    "    print('Dropping multichain and single chain receptors')\n",
    "\n",
    "    # Drop multichain instances\n",
    "    adata = adata[adata.obs[\"chain_pairing\"] != \"multichain\", :].copy()\n",
    "\n",
    "    # Drop single chain instances\n",
    "    adata = adata[~adata.obs[\"chain_pairing\"].isin([\"orphan VDJ\", \"orphan VJ\"]), :].copy()\n",
    "\n",
    "    return adata\n",
    "\n",
    "def load_data(contigs,feature_matrix):\n",
    "\n",
    "    # Load the TCR data\n",
    "    adata_tcr = ir.io.read_10x_vdj(contigs)\n",
    "\n",
    "    # Load the associated transcriptomics data\n",
    "    adata = sc.read_10x_h5(feature_matrix)\n",
    "\n",
    "    # Merge\n",
    "    ir.pp.merge_with_ir(adata, adata_tcr)\n",
    "\n",
    "    print(\"Data loaded to Ann Object with shape: \",adata.shape)\n",
    "\n",
    "    return adata\n",
    "\n",
    "contigs=\"data/vdj_v1_hs_aggregated_donor2_all_contig_annotations.csv\"\n",
    "bc_matrix=\"data/vdj_v1_hs_aggregated_donor2_filtered_feature_bc_matrix.h5\"\n",
    "\n",
    "adata=load_data(contigs,bc_matrix)\n",
    "adata=preprocess(adata,drop_mt=True)"
   ]
  },
  {
   "cell_type": "code",
   "execution_count": 47,
   "metadata": {},
   "outputs": [],
   "source": [
    "# Create barcode: epitope dictionary\n",
    "\n",
    "def get_epitopes(binarized_matrix, savefile=False):\n",
    "    '''Extract epitope map from binarized matrix file'''\n",
    "    assert type(binarized_matrix)==str\n",
    "\n",
    "    print('Loading binary matrix')\n",
    "    binary_matrix=pd.read_csv(binarized_matrix)\n",
    "    sub=binary_matrix[binary_matrix.columns[68:]]\n",
    "    sub.set_index(binary_matrix['barcode'].values,inplace=True)\n",
    "    print('Reading epitope specifity from %s files'%(len(sub)))\n",
    "    eps=[sub.iloc[i][sub.iloc[i]==True] for i in range(len(sub))]\n",
    "    assert len(eps)==len(sub)\n",
    "    epitope={}\n",
    "    for i in range(len(eps)):\n",
    "        try:\n",
    "            epitopes[eps[i].name]=eps[i].index[0].strip('_binder')\n",
    "        except IndexError:\n",
    "            epitopes[eps[i].name]='None'\n",
    "\n",
    "\n",
    "    if savefile:\n",
    "        save_pickle(epitopes,savefile)\n",
    "    \n",
    "    return binary_matrix, epitopes\n",
    "\n",
    "binarized_matrix='data/vdj_v1_hs_aggregated_donor2_binarized_matrix.csv'\n",
    "savefile='data/epitopes.pkl'\n",
    "\n",
    "# bm,epitopes=get_epitopes(binarized_matrix,savefile)\n"
   ]
  },
  {
   "cell_type": "code",
   "execution_count": 48,
   "metadata": {},
   "outputs": [
    {
     "name": "stdout",
     "output_type": "stream",
     "text": [
      "Loading files from data/epitopes.pkl\n"
     ]
    }
   ],
   "source": [
    "# Load barcode: epitope dictionary\n",
    "def load_pickle(loadfile):\n",
    "    assert type(loadfile)==str\n",
    "    print('Loading files from', loadfile)\n",
    "    with open(loadfile,'rb') as f:\n",
    "        data = pickle.load(f)\n",
    "    return data\n",
    "\n",
    "epitopes=load_pickle(savefile)"
   ]
  },
  {
   "cell_type": "code",
   "execution_count": 68,
   "metadata": {},
   "outputs": [
    {
     "name": "stdout",
     "output_type": "stream",
     "text": [
      "Saving\n"
     ]
    }
   ],
   "source": [
    "def get_TCRs(adata, savefile=False,epitope_dict = False):\n",
    "    '''Extract TCRs from Ann object, and map to epitope specificity where provided'''\n",
    "    TCR = adata.obs[['IR_VJ_1_j_call','IR_VJ_1_junction_aa','IR_VDJ_1_j_call','IR_VDJ_1_junction_aa']].copy()\n",
    "    TCR.columns=['v.alpha','cdr3.alpha','v.beta','cdr3.beta']\n",
    "    if epitope_dict:\n",
    "        eps=[]\n",
    "        for i in range(len(TCR)):\n",
    "                if TCR.iloc[i].name in epitope_dict.keys():\n",
    "                    eps.append(epitope_dict[TCR.index[i]])\n",
    "                else:\n",
    "                    eps.append('None')\n",
    "\n",
    "        # epitopes = [epitope_dict[name] for name in CDR3.index if name in epitope_dict.keys() else None]\n",
    "        TCR['Epitope']=eps\n",
    "        adata.uns['TCRs']=TCR\n",
    "    if savefile:\n",
    "        print('Saving')\n",
    "        TCR.to_pickle(savefile)\n",
    "    return adata\n",
    "\n",
    "adata = get_TCRs(adata,savefile='data/TCRs2.pkl',epitope_dict=epitopes)"
   ]
  },
  {
   "cell_type": "code",
   "execution_count": 52,
   "metadata": {},
   "outputs": [
    {
     "name": "stdout",
     "output_type": "stream",
     "text": [
      "Computing sequence x sequence distance matrix for VJ sequences.\n",
      "Computing sequence x sequence distance matrix for VDJ sequences.\n",
      "Initializing lookup tables. \n",
      "Computing clonotype x clonotype distances.\n",
      "NB: Computation happens in chunks. The progressbar only advances when a chunk has finished. \n"
     ]
    },
    {
     "name": "stderr",
     "output_type": "stream",
     "text": [
      "100%|██████████| 11205/11205 [00:18<00:00, 605.79it/s]\n"
     ]
    },
    {
     "name": "stdout",
     "output_type": "stream",
     "text": [
      "Stored clonal assignments in `adata.obs[\"clone_id\"]`.\n"
     ]
    }
   ],
   "source": [
    "# Compute scirpy clonotypes based on nucleotide sequence identity\n",
    "\n",
    "ir.pp.ir_dist(adata)\n",
    "ir.tl.define_clonotypes(adata, receptor_arms=\"all\", dual_ir=\"primary_only\")\n",
    "ir.tl.clonotype_network(adata, min_cells=2)"
   ]
  },
  {
   "cell_type": "code",
   "execution_count": 53,
   "metadata": {},
   "outputs": [
    {
     "name": "stdout",
     "output_type": "stream",
     "text": [
      "Computing sequence x sequence distance matrix for VJ sequences.\n",
      "Computing sequence x sequence distance matrix for VDJ sequences.\n"
     ]
    }
   ],
   "source": [
    "# Compute scirpy clonotypes based on amino acid sequence identity\n",
    "ir.pp.ir_dist(\n",
    "    adata,\n",
    "    metric=\"identity\",\n",
    "    sequence=\"aa\",\n",
    ")"
   ]
  },
  {
   "cell_type": "code",
   "execution_count": 9,
   "metadata": {},
   "outputs": [
    {
     "name": "stderr",
     "output_type": "stream",
     "text": [
      "/Users/danhudson/opt/miniconda3/envs/10X/lib/python3.9/site-packages/anndata/_core/anndata.py:1228: FutureWarning: The `inplace` parameter in pandas.Categorical.reorder_categories is deprecated and will be removed in a future version. Reordering categories will always return a new Categorical object.\n",
      "  c.reorder_categories(natsorted(c.categories), inplace=True)\n",
      "... storing 'receptor_type' as categorical\n",
      "/Users/danhudson/opt/miniconda3/envs/10X/lib/python3.9/site-packages/anndata/_core/anndata.py:1228: FutureWarning: The `inplace` parameter in pandas.Categorical.reorder_categories is deprecated and will be removed in a future version. Reordering categories will always return a new Categorical object.\n",
      "  c.reorder_categories(natsorted(c.categories), inplace=True)\n",
      "... storing 'receptor_subtype' as categorical\n",
      "/Users/danhudson/opt/miniconda3/envs/10X/lib/python3.9/site-packages/anndata/_core/anndata.py:1228: FutureWarning: The `inplace` parameter in pandas.Categorical.reorder_categories is deprecated and will be removed in a future version. Reordering categories will always return a new Categorical object.\n",
      "  c.reorder_categories(natsorted(c.categories), inplace=True)\n",
      "... storing 'chain_pairing' as categorical\n",
      "/Users/danhudson/opt/miniconda3/envs/10X/lib/python3.9/site-packages/anndata/_core/anndata.py:1228: FutureWarning: The `inplace` parameter in pandas.Categorical.reorder_categories is deprecated and will be removed in a future version. Reordering categories will always return a new Categorical object.\n",
      "  c.reorder_categories(natsorted(c.categories), inplace=True)\n",
      "... storing 'clone_id' as categorical\n"
     ]
    }
   ],
   "source": [
    "adata.write_h5ad('data/anndata_object.h5ad')"
   ]
  }
 ],
 "metadata": {
  "interpreter": {
   "hash": "8a5e885d27701df72fa2532b20f3499db43ddee566896f7da2f53df3bc3dc0e5"
  },
  "kernelspec": {
   "display_name": "Python 3.10.1 64-bit ('clusTCR': conda)",
   "language": "python",
   "name": "python3"
  },
  "language_info": {
   "codemirror_mode": {
    "name": "ipython",
    "version": 3
   },
   "file_extension": ".py",
   "mimetype": "text/x-python",
   "name": "python",
   "nbconvert_exporter": "python",
   "pygments_lexer": "ipython3",
   "version": "3.9.9"
  },
  "orig_nbformat": 4
 },
 "nbformat": 4,
 "nbformat_minor": 2
}
