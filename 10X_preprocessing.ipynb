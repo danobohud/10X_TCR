{
 "cells": [
  {
   "cell_type": "code",
   "execution_count": 1,
   "metadata": {},
   "outputs": [],
   "source": [
    "import numpy as np\n",
    "import pandas as pd\n",
    "import scanpy as sc\n",
    "import scirpy as ir\n",
    "from matplotlib import pyplot as plt, cm as mpl_cm\n",
    "from cycler import cycler\n",
    "from tcr_processing import *\n",
    "import datetime\n",
    "import csv\n",
    "\n",
    "sc.set_figure_params(figsize=(4, 4))\n",
    "sc.settings.verbosity = 2  # verbosity: errors (0), warnings (1), info (2), hints (3)"
   ]
  },
  {
   "cell_type": "code",
   "execution_count": 2,
   "metadata": {},
   "outputs": [],
   "source": [
    "class TCR:\n",
    "    '''Create a class object for loading, processing \n",
    "        and clustering 10X TCR data with Scirpy'''\n",
    "    \n",
    "    def __init__(self, parameters):\n",
    "        print('Initialising class object')\n",
    "\n",
    "        assert type(parameters)==dict\n",
    "\n",
    "        self.params = parameters\n",
    "    \n",
    "    def load_data(self):\n",
    "\n",
    "        '''Load 10X transcriptomic and cell binding data'''\n",
    "        \n",
    "        print('Loading TCR binding and transcriptomics data')\n",
    "        \n",
    "        contigs, feature_matrix= [self.params[x] for x in ['contigs','bc_matrix']]\n",
    "        \n",
    "        if not contigs[-3:]=='csv':\n",
    "            raise TypeError('Contigs file should be in csv format')\n",
    "\n",
    "        if not feature_matrix[-2:]=='h5':\n",
    "            raise TypeError('Contigs file should be in h5 format')\n",
    "        \n",
    "        # Load TCR data\n",
    "        adata_tcr = ir.io.read_10x_vdj(contigs)\n",
    "\n",
    "        # Load associated transcriptomics data\n",
    "        adata = sc.read_10x_h5(feature_matrix)\n",
    "\n",
    "        # Merge\n",
    "        ir.pp.merge_with_ir(adata, adata_tcr)\n",
    "\n",
    "        print(\"Data loaded to Ann Object with shape: \",adata.shape)\n",
    "        \n",
    "        self.adata=adata\n",
    "\n",
    "    def drop_dead(self):\n",
    "        '''Remove cells above a set % of mitochondrial gene expression \n",
    "            or falling above a total gene count threshold'''\n",
    "        \n",
    "        max_genes, mito_cutoff= [self.params[x] for x in ['max_genes','mito_cutoff']]\n",
    "        if mito_cutoff:\n",
    "            print('Eliminating cells above mitochondrial gene expression threshold')\n",
    "            self.adata.var['mt'] = self.adata.var_names.str.startswith('MT-')  # Generates a boolean mask for genes starting with 'MT'\n",
    "            sc.pp.calculate_qc_metrics(self.adata, qc_vars=['mt'], percent_top=None, log1p=False, inplace=True)  # Returns total_counts_['mt'] for vars fed in via qc_vars\n",
    "            self.adata = self.adata[self.adata.obs.pct_counts_mt < mito_cutoff, :]\n",
    "\n",
    "        if max_genes:\n",
    "            print('Eliminating suspected doublets')\n",
    "            self.adata = self.adata[self.adata.obs.n_genes_by_counts < max_genes, :]\n",
    "\n",
    "    def preprocess(self):\n",
    "        '''Preprocess single cell data and conduct TCR chain quality control'''\n",
    "\n",
    "        if self.params['preprocess']==True:\n",
    "\n",
    "            min_cells, min_genes = [self.params[x] for x in ['min_cells','min_genes']]\n",
    "        \n",
    "            # Filter dead and doublet cells\n",
    "\n",
    "            if min_cells:\n",
    "                sc.pp.filter_genes(self.adata, min_cells=min_cells)\n",
    "            if min_genes:\n",
    "                sc.pp.filter_cells(self.adata, min_genes=min_genes)\n",
    "            \n",
    "            self.drop_dead()\n",
    "\n",
    "            # Normalise count data\n",
    "            sc.pp.normalize_per_cell(self.adata, counts_per_cell_after=1000)\n",
    "            sc.pp.log1p(self.adata)\n",
    "\n",
    "        # QC of TCR chains\n",
    "    \n",
    "        ir.tl.chain_qc(self.adata)\n",
    "        \n",
    "        print(\n",
    "            \"Fraction of cells with more than one pair of TCRs: {:.2f}\".format(\n",
    "                np.sum(self.adata.obs[\"chain_pairing\"].isin(\n",
    "                        [\"extra VJ\", \"extra VDJ\", \"two full chains\"])) / self.adata.n_obs))\n",
    "        print('Dropping multichain and single chain receptors')\n",
    "\n",
    "        # Drop multichain instances\n",
    "        self.adata = self.adata[self.adata.obs[\"chain_pairing\"] != \"multichain\", :].copy()\n",
    "\n",
    "        # Drop single chain instances\n",
    "        self.adata = self.adata[~self.adata.obs[\"chain_pairing\"].isin([\"orphan VDJ\", \"orphan VJ\"]), :].copy()\n",
    "    \n",
    "    def get_epitopes(self):\n",
    "\n",
    "        '''Extract epitope map from binarized matrix file'''\n",
    "        binarized_matrix, epitopes_loadfile, epitopes_outfile=[self.params[x] for x in ['binarized_matrix',\n",
    "                                                                                            'epitopes_loadfile',\n",
    "                                                                                            'epitopes_outfile']]\n",
    "        if epitopes_loadfile:\n",
    "            epitopes=load_pickle(epitopes_loadfile)\n",
    "        \n",
    "        elif epitopes_outfile and not epitopes_loadfile:\n",
    "\n",
    "            print('Loading binary matrix')\n",
    "            binary_matrix=pd.read_csv(binarized_matrix)\n",
    "            sub=binary_matrix[binary_matrix.columns[68:]]   # Check this for other donors\n",
    "            sub.set_index(binary_matrix['barcode'].values,inplace=True)\n",
    "            print('Reading epitope specificity from %s cells'%(len(sub)))\n",
    "            eps=[sub.iloc[i][sub.iloc[i]==True] for i in range(len(sub))]\n",
    "            assert len(eps)==len(sub)\n",
    "            epitopes={}\n",
    "            for i in range(len(eps)):\n",
    "                try:\n",
    "                    epitopes[eps[i].name]=eps[i].index[0].strip('_binder')\n",
    "                except IndexError:\n",
    "                    epitopes[eps[i].name]='None'\n",
    "            save_pickle(epitopes,epitopes_outfile)\n",
    "            \n",
    "        else:\n",
    "            raise ValueError(\"You must specify either a pre-existing epitope file, or an epitopes outfile location\")\n",
    "        \n",
    "        self.epitopes=epitopes\n",
    "\n",
    "    def get_clusters(self):\n",
    "\n",
    "        '''Generate baseline clusters using scirpy clustering function'''\n",
    "\n",
    "        dist=self.params['cluster_distance']\n",
    "        if dist not in ['identity', 'hamming', 'levenshtein']:\n",
    "            raise ValueError('Enter a distance metric from \"identity\", \"hamming\", \"levenshtein\"')\n",
    "\n",
    "        ir.pp.ir_dist(\n",
    "            self.adata,\n",
    "            metric=dist,\n",
    "            cutoff=1,\n",
    "            sequence=\"aa\",\n",
    "        )\n",
    "        ir.tl.define_clonotype_clusters(self.adata, sequence='aa', metric=dist, receptor_arms='all', dual_ir='primary_only', same_v_gene=False, n_jobs=4)\n",
    "        ir.tl.clonotype_network(self.adata, sequence='aa', metric=dist,min_cells=2) \n",
    "        idx = {x:k for k in self.adata.uns['cc_aa_%s'%(dist)]['cell_indices'].keys() for x in self.adata.uns['cc_aa_%s'%(dist)]['cell_indices'][k]}\n",
    "        clusts= []\n",
    "        tcr=self.adata.uns['TCRs']\n",
    "        for i in range(len(tcr)):\n",
    "            barcode = tcr.iloc[i].name\n",
    "            if barcode in idx.keys():\n",
    "                clusts.append(idx[barcode])\n",
    "            else:\n",
    "                clusts.append('None')\n",
    "        assert len(clusts)==len(tcr)\n",
    "        tcr['scirpy_%s'%(dist)]=clusts\n",
    "        self.adata.uns['TCRs']=tcr\n",
    "            \n",
    "    def get_TCRs(self):\n",
    "\n",
    "        '''Extract TCRs from Ann object, and map to epitope specificity'''\n",
    "        TCR = self.adata.obs[['IR_VDJ_1_junction_aa','IR_VDJ_1_v_call','IR_VDJ_1_j_call',\n",
    "                              'IR_VJ_1_junction_aa','IR_VJ_1_v_call','IR_VJ_1_j_call']].copy()\n",
    "        TCR.columns=['cdr3.beta','v.beta','j.beta','cdr3.alpha','v.alpha','j.alpha']\n",
    "        epitope_dict=self.epitopes\n",
    "        eps=[]\n",
    "        for i in range(len(TCR)):\n",
    "                if TCR.iloc[i].name in epitope_dict.keys():\n",
    "                    eps.append(epitope_dict[TCR.index[i]])\n",
    "                else:\n",
    "                    eps.append('None')\n",
    "        TCR['Epitope']=eps\n",
    "        TCR['subject:condition']=self.params['subj']\n",
    "\n",
    "        self.adata.uns['TCRs']=TCR\n",
    "\n",
    "        if self.params['cluster_distance']:\n",
    "            self.get_clusters()\n",
    "        \n",
    "        if self.params['tcr_outfile']:\n",
    "            print('Saving')\n",
    "            TCR.to_pickle(self.params['tcr_outfile'])\n",
    "\n",
    "    def write_record(self,record):\n",
    "        '''Write parameters to csv file'''\n",
    "        print('Recording parameters to: ',record)\n",
    "        with open(record,'a') as f:\n",
    "            writer=csv.writer(f)\n",
    "            writer.writerow(list(self.params.values()))    \n"
   ]
  },
  {
   "cell_type": "code",
   "execution_count": 3,
   "metadata": {},
   "outputs": [],
   "source": [
    "def run(param_dict,record):\n",
    "    tcr_obj=TCR(parameter_dict)\n",
    "    tcr_obj.load_data()\n",
    "    tcr_obj.preprocess()\n",
    "    tcr_obj.get_epitopes()\n",
    "    tcr_obj.get_TCRs()\n",
    "    tcr_obj.write_record(record)\n",
    "    print('Complete')   "
   ]
  },
  {
   "cell_type": "code",
   "execution_count": 5,
   "metadata": {},
   "outputs": [
    {
     "name": "stdout",
     "output_type": "stream",
     "text": [
      "Initialising class object\n",
      "Loading TCR binding and transcriptomics data\n",
      "WARNING: Non-standard locus name ignored: Multi \n",
      "WARNING: Non-standard locus name ignored: None \n",
      "reading data/vdj_v1_hs_aggregated_donor2_filtered_feature_bc_matrix.h5\n"
     ]
    },
    {
     "name": "stderr",
     "output_type": "stream",
     "text": [
      "Variable names are not unique. To make them unique, call `.var_names_make_unique`.\n"
     ]
    },
    {
     "name": "stdout",
     "output_type": "stream",
     "text": [
      " (0:00:05)\n"
     ]
    },
    {
     "name": "stderr",
     "output_type": "stream",
     "text": [
      "Variable names are not unique. To make them unique, call `.var_names_make_unique`.\n",
      "/Users/danhudson/opt/miniconda3/envs/10X/lib/python3.9/site-packages/anndata/_core/anndata.py:1228: FutureWarning: The `inplace` parameter in pandas.Categorical.reorder_categories is deprecated and will be removed in a future version. Reordering categories will always return a new Categorical object.\n",
      "  c.reorder_categories(natsorted(c.categories), inplace=True)\n",
      "... storing 'feature_types' as categorical\n",
      "/Users/danhudson/opt/miniconda3/envs/10X/lib/python3.9/site-packages/anndata/_core/anndata.py:1228: FutureWarning: The `inplace` parameter in pandas.Categorical.reorder_categories is deprecated and will be removed in a future version. Reordering categories will always return a new Categorical object.\n",
      "  c.reorder_categories(natsorted(c.categories), inplace=True)\n",
      "... storing 'genome' as categorical\n"
     ]
    },
    {
     "name": "stdout",
     "output_type": "stream",
     "text": [
      "Data loaded to Ann Object with shape:  (91921, 33538)\n",
      "Fraction of cells with more than one pair of TCRs: 0.07\n",
      "Dropping multichain and single chain receptors\n"
     ]
    },
    {
     "name": "stderr",
     "output_type": "stream",
     "text": [
      "Variable names are not unique. To make them unique, call `.var_names_make_unique`.\n",
      "Variable names are not unique. To make them unique, call `.var_names_make_unique`.\n"
     ]
    },
    {
     "name": "stdout",
     "output_type": "stream",
     "text": [
      "Loading binary matrix\n",
      "Reading epitope specificity from 77854 cells\n",
      "Saving file to  20220124_0955_epitopes_donor2.pkl\n",
      "Computing sequence x sequence distance matrix for VJ sequences.\n"
     ]
    },
    {
     "name": "stderr",
     "output_type": "stream",
     "text": [
      "100%|██████████| 22366/22366 [00:10<00:00, 2092.22it/s] \n"
     ]
    },
    {
     "name": "stdout",
     "output_type": "stream",
     "text": [
      "Computing sequence x sequence distance matrix for VDJ sequences.\n"
     ]
    },
    {
     "name": "stderr",
     "output_type": "stream",
     "text": [
      "100%|██████████| 24976/24976 [00:10<00:00, 2393.52it/s] \n"
     ]
    },
    {
     "name": "stdout",
     "output_type": "stream",
     "text": [
      "Initializing lookup tables. \n",
      "Computing clonotype x clonotype distances.\n",
      "NB: Computation happens in chunks. The progressbar only advances when a chunk has finished. \n"
     ]
    },
    {
     "name": "stderr",
     "output_type": "stream",
     "text": [
      "100%|██████████| 12921/12921 [00:15<00:00, 833.92it/s] \n"
     ]
    },
    {
     "name": "stdout",
     "output_type": "stream",
     "text": [
      "Stored clonal assignments in `adata.obs[\"cc_aa_hamming\"]`.\n",
      "Saving\n",
      "Recording parameters to:  data/record.csv\n",
      "Complete\n"
     ]
    }
   ],
   "source": [
    "# Execute\n",
    "\n",
    "time=datetime.datetime.now().strftime('%Y%m%d_%H%M')\n",
    "record='data/record.csv'\n",
    "\n",
    "parameter_dict=dict(\n",
    "tcr_outfile=\"%s_TCRs_donor2.pkl\"%(time),\n",
    "contigs=\"data/vdj_v1_hs_aggregated_donor2_all_contig_annotations.csv\",\n",
    "bc_matrix=\"data/vdj_v1_hs_aggregated_donor2_filtered_feature_bc_matrix.h5\",\n",
    "binarized_matrix='data/vdj_v1_hs_aggregated_donor2_binarized_matrix.csv',\n",
    "preprocess=False,\n",
    "min_cells=10,\n",
    "min_genes=100,\n",
    "max_genes=2500,\n",
    "mito_cutoff=5,\n",
    "epitopes_loadfile=None,\n",
    "epitopes_outfile=\"%s_epitopes_donor2.pkl\"%(time),\n",
    "subj='donor2:healthy',\n",
    "organism='homo sapiens',\n",
    "cluster_distance='hamming')\n",
    "\n",
    "run(parameter_dict,record)\n"
   ]
  }
 ],
 "metadata": {
  "interpreter": {
   "hash": "8a5e885d27701df72fa2532b20f3499db43ddee566896f7da2f53df3bc3dc0e5"
  },
  "kernelspec": {
   "display_name": "Python 3.10.1 64-bit ('clusTCR': conda)",
   "language": "python",
   "name": "python3"
  },
  "language_info": {
   "codemirror_mode": {
    "name": "ipython",
    "version": 3
   },
   "file_extension": ".py",
   "mimetype": "text/x-python",
   "name": "python",
   "nbconvert_exporter": "python",
   "pygments_lexer": "ipython3",
   "version": "3.9.9"
  },
  "orig_nbformat": 4
 },
 "nbformat": 4,
 "nbformat_minor": 2
}
